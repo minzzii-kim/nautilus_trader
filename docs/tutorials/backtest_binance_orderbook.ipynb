{
 "cells": [
  {
   "cell_type": "markdown",
   "id": "0",
   "metadata": {},
   "source": [
    "# Backtest: Binance OrderBook data\n",
    "\n",
    "Tutorial for [NautilusTrader](https://nautilustrader.io/docs/) a high-performance algorithmic trading platform and event driven backtester.\n",
    "\n",
    "[View source on GitHub](https://github.com/nautechsystems/nautilus_trader/blob/develop/docs/tutorials/backtest_binance_orderbook.ipynb).\n",
    "\n",
    ":::info\n",
    "We are currently working on this article.\n",
    ":::"
   ]
  },
  {
   "cell_type": "markdown",
   "id": "1",
   "metadata": {},
   "source": [
    "## Overview\n",
    "\n",
    "This tutorial runs through how to setup the data catalog and a `BacktestNode` to backtest an `OrderBookImbalance` strategy or order book data. This example requires you bring your Binance own order book data."
   ]
  },
  {
   "cell_type": "markdown",
   "id": "2",
   "metadata": {},
   "source": [
    "## Prerequisites\n",
    "\n",
    "- [NautilusTrader](https://pypi.org/project/nautilus_trader/) latest release installed (`pip install -U nautilus_trader`)\n",
    "- [JupyterLab](https://jupyter.org/) or similar installed (`pip install -U jupyterlab`)\n",
    "- Python 3.10+ installed"
   ]
  },
  {
   "cell_type": "markdown",
   "id": "3",
   "metadata": {},
   "source": [
    "## Imports\n",
    "\n",
    "We'll start with all of our imports for the remainder of this guide:"
   ]
  },
  {
   "cell_type": "code",
   "execution_count": 1,
   "id": "4",
   "metadata": {},
   "outputs": [],
   "source": [
    "import os\n",
    "import shutil\n",
    "from decimal import Decimal\n",
    "from pathlib import Path\n",
    "\n",
    "import pandas as pd\n",
    "\n",
    "from nautilus_trader.backtest.node import BacktestNode\n",
    "from nautilus_trader.backtest.node import BacktestVenueConfig\n",
    "from nautilus_trader.backtest.node import BacktestDataConfig\n",
    "from nautilus_trader.backtest.node import BacktestRunConfig\n",
    "from nautilus_trader.backtest.node import BacktestEngineConfig\n",
    "from nautilus_trader.core.datetime import dt_to_unix_nanos\n",
    "from nautilus_trader.config import ImportableStrategyConfig\n",
    "from nautilus_trader.config import LoggingConfig\n",
    "from nautilus_trader.examples.strategies.ema_cross import EMACross, EMACrossConfig\n",
    "from nautilus_trader.model.data import OrderBookDelta\n",
    "from nautilus_trader.persistence.loaders import BinanceOrderBookDeltaDataLoader\n",
    "from nautilus_trader.persistence.wranglers import OrderBookDeltaDataWrangler\n",
    "from nautilus_trader.persistence.catalog import ParquetDataCatalog\n",
    "from nautilus_trader.test_kit.providers import TestInstrumentProvider"
   ]
  },
  {
   "cell_type": "markdown",
   "id": "5",
   "metadata": {},
   "source": [
    "## Loading data"
   ]
  },
  {
   "cell_type": "code",
   "execution_count": 2,
   "id": "6",
   "metadata": {},
   "outputs": [],
   "source": [
    "# Path to your data directory, using user /Downloads as an example\n",
    "DATA_DIR = \"~/Downloads\""
   ]
  },
  {
   "cell_type": "code",
   "execution_count": 3,
   "id": "7",
   "metadata": {},
   "outputs": [
    {
     "data": {
      "text/plain": [
       "[PosixPath('/Users/minzzii/Documents/highfrequencytrading/nautilus_trader/tests/test_data/binance/btcusdt-quotes.parquet'),\n",
       " PosixPath('/Users/minzzii/Documents/highfrequencytrading/nautilus_trader/tests/test_data/binance/btcusdt-trades.parquet'),\n",
       " PosixPath('/Users/minzzii/Documents/highfrequencytrading/nautilus_trader/tests/test_data/binance/btcusdt-instrument-repr.txt'),\n",
       " PosixPath('/Users/minzzii/Documents/highfrequencytrading/nautilus_trader/tests/test_data/binance/btcusdt-depth-snap.csv'),\n",
       " PosixPath('/Users/minzzii/Documents/highfrequencytrading/nautilus_trader/tests/test_data/binance/btcusdt-instrument.txt'),\n",
       " PosixPath('/Users/minzzii/Documents/highfrequencytrading/nautilus_trader/tests/test_data/binance/btcusdt-depth-update.csv'),\n",
       " PosixPath('/Users/minzzii/Documents/highfrequencytrading/nautilus_trader/tests/test_data/binance/ethusdt-trades.csv')]"
      ]
     },
     "execution_count": 3,
     "metadata": {},
     "output_type": "execute_result"
    }
   ],
   "source": [
    "data_path = Path(DATA_DIR).expanduser() / \"Data\" / \"Binance\"\n",
    "data_path = Path(\"/Users/minzzii/Documents/highfrequencytrading/nautilus_trader/tests/test_data/binance\")\n",
    "raw_files = list(data_path.iterdir())\n",
    "assert raw_files, f\"Unable to find any histdata files in directory {data_path}\"\n",
    "raw_files"
   ]
  },
  {
   "cell_type": "code",
   "execution_count": 4,
   "id": "8",
   "metadata": {},
   "outputs": [
    {
     "data": {
      "text/html": [
       "<div>\n",
       "<style scoped>\n",
       "    .dataframe tbody tr th:only-of-type {\n",
       "        vertical-align: middle;\n",
       "    }\n",
       "\n",
       "    .dataframe tbody tr th {\n",
       "        vertical-align: top;\n",
       "    }\n",
       "\n",
       "    .dataframe thead th {\n",
       "        text-align: right;\n",
       "    }\n",
       "</style>\n",
       "<table border=\"1\" class=\"dataframe\">\n",
       "  <thead>\n",
       "    <tr style=\"text-align: right;\">\n",
       "      <th></th>\n",
       "      <th>instrument_id</th>\n",
       "      <th>action</th>\n",
       "      <th>side</th>\n",
       "      <th>price</th>\n",
       "      <th>size</th>\n",
       "      <th>order_id</th>\n",
       "      <th>flags</th>\n",
       "      <th>sequence</th>\n",
       "    </tr>\n",
       "    <tr>\n",
       "      <th>timestamp</th>\n",
       "      <th></th>\n",
       "      <th></th>\n",
       "      <th></th>\n",
       "      <th></th>\n",
       "      <th></th>\n",
       "      <th></th>\n",
       "      <th></th>\n",
       "      <th></th>\n",
       "    </tr>\n",
       "  </thead>\n",
       "  <tbody>\n",
       "    <tr>\n",
       "      <th>2022-11-01 23:49:39.146000+00:00</th>\n",
       "      <td>BTCUSDT.BINANCE</td>\n",
       "      <td>ADD</td>\n",
       "      <td>BUY</td>\n",
       "      <td>20377.0</td>\n",
       "      <td>1.770</td>\n",
       "      <td>0</td>\n",
       "      <td>32</td>\n",
       "      <td>2098021528332</td>\n",
       "    </tr>\n",
       "    <tr>\n",
       "      <th>2022-11-01 23:49:39.146000+00:00</th>\n",
       "      <td>BTCUSDT.BINANCE</td>\n",
       "      <td>ADD</td>\n",
       "      <td>BUY</td>\n",
       "      <td>20376.9</td>\n",
       "      <td>0.001</td>\n",
       "      <td>0</td>\n",
       "      <td>32</td>\n",
       "      <td>2098021528332</td>\n",
       "    </tr>\n",
       "    <tr>\n",
       "      <th>2022-11-01 23:49:39.146000+00:00</th>\n",
       "      <td>BTCUSDT.BINANCE</td>\n",
       "      <td>ADD</td>\n",
       "      <td>BUY</td>\n",
       "      <td>20376.8</td>\n",
       "      <td>0.009</td>\n",
       "      <td>0</td>\n",
       "      <td>32</td>\n",
       "      <td>2098021528332</td>\n",
       "    </tr>\n",
       "    <tr>\n",
       "      <th>2022-11-01 23:49:39.146000+00:00</th>\n",
       "      <td>BTCUSDT.BINANCE</td>\n",
       "      <td>ADD</td>\n",
       "      <td>BUY</td>\n",
       "      <td>20376.7</td>\n",
       "      <td>1.216</td>\n",
       "      <td>0</td>\n",
       "      <td>32</td>\n",
       "      <td>2098021528332</td>\n",
       "    </tr>\n",
       "    <tr>\n",
       "      <th>2022-11-01 23:49:39.146000+00:00</th>\n",
       "      <td>BTCUSDT.BINANCE</td>\n",
       "      <td>ADD</td>\n",
       "      <td>BUY</td>\n",
       "      <td>20376.6</td>\n",
       "      <td>0.011</td>\n",
       "      <td>0</td>\n",
       "      <td>32</td>\n",
       "      <td>2098021528332</td>\n",
       "    </tr>\n",
       "  </tbody>\n",
       "</table>\n",
       "</div>"
      ],
      "text/plain": [
       "                                    instrument_id action side    price   size  \\\n",
       "timestamp                                                                       \n",
       "2022-11-01 23:49:39.146000+00:00  BTCUSDT.BINANCE    ADD  BUY  20377.0  1.770   \n",
       "2022-11-01 23:49:39.146000+00:00  BTCUSDT.BINANCE    ADD  BUY  20376.9  0.001   \n",
       "2022-11-01 23:49:39.146000+00:00  BTCUSDT.BINANCE    ADD  BUY  20376.8  0.009   \n",
       "2022-11-01 23:49:39.146000+00:00  BTCUSDT.BINANCE    ADD  BUY  20376.7  1.216   \n",
       "2022-11-01 23:49:39.146000+00:00  BTCUSDT.BINANCE    ADD  BUY  20376.6  0.011   \n",
       "\n",
       "                                  order_id  flags       sequence  \n",
       "timestamp                                                         \n",
       "2022-11-01 23:49:39.146000+00:00         0     32  2098021528332  \n",
       "2022-11-01 23:49:39.146000+00:00         0     32  2098021528332  \n",
       "2022-11-01 23:49:39.146000+00:00         0     32  2098021528332  \n",
       "2022-11-01 23:49:39.146000+00:00         0     32  2098021528332  \n",
       "2022-11-01 23:49:39.146000+00:00         0     32  2098021528332  "
      ]
     },
     "execution_count": 4,
     "metadata": {},
     "output_type": "execute_result"
    }
   ],
   "source": [
    "# First we'll load the initial order book snapshot\n",
    "path_snap = data_path / \"btcusdt-depth-snap.csv\" #\"BTCUSDT_T_DEPTH_2022-11-01_depth_snap.csv\"\n",
    "df_snap = BinanceOrderBookDeltaDataLoader.load(path_snap)\n",
    "df_snap.head()"
   ]
  },
  {
   "cell_type": "code",
   "execution_count": 5,
   "id": "9",
   "metadata": {},
   "outputs": [
    {
     "data": {
      "text/html": [
       "<div>\n",
       "<style scoped>\n",
       "    .dataframe tbody tr th:only-of-type {\n",
       "        vertical-align: middle;\n",
       "    }\n",
       "\n",
       "    .dataframe tbody tr th {\n",
       "        vertical-align: top;\n",
       "    }\n",
       "\n",
       "    .dataframe thead th {\n",
       "        text-align: right;\n",
       "    }\n",
       "</style>\n",
       "<table border=\"1\" class=\"dataframe\">\n",
       "  <thead>\n",
       "    <tr style=\"text-align: right;\">\n",
       "      <th></th>\n",
       "      <th>instrument_id</th>\n",
       "      <th>action</th>\n",
       "      <th>side</th>\n",
       "      <th>price</th>\n",
       "      <th>size</th>\n",
       "      <th>order_id</th>\n",
       "      <th>flags</th>\n",
       "      <th>sequence</th>\n",
       "    </tr>\n",
       "    <tr>\n",
       "      <th>timestamp</th>\n",
       "      <th></th>\n",
       "      <th></th>\n",
       "      <th></th>\n",
       "      <th></th>\n",
       "      <th></th>\n",
       "      <th></th>\n",
       "      <th></th>\n",
       "      <th></th>\n",
       "    </tr>\n",
       "  </thead>\n",
       "  <tbody>\n",
       "    <tr>\n",
       "      <th>2022-11-01 23:59:59.939000+00:00</th>\n",
       "      <td>BTCUSDT.BINANCE</td>\n",
       "      <td>DELETE</td>\n",
       "      <td>SELL</td>\n",
       "      <td>20472.8</td>\n",
       "      <td>0.000</td>\n",
       "      <td>0</td>\n",
       "      <td>0</td>\n",
       "      <td>2098041696700</td>\n",
       "    </tr>\n",
       "    <tr>\n",
       "      <th>2022-11-01 23:59:59.939000+00:00</th>\n",
       "      <td>BTCUSDT.BINANCE</td>\n",
       "      <td>DELETE</td>\n",
       "      <td>SELL</td>\n",
       "      <td>20472.9</td>\n",
       "      <td>0.000</td>\n",
       "      <td>0</td>\n",
       "      <td>0</td>\n",
       "      <td>2098041696700</td>\n",
       "    </tr>\n",
       "    <tr>\n",
       "      <th>2022-11-01 23:59:59.939000+00:00</th>\n",
       "      <td>BTCUSDT.BINANCE</td>\n",
       "      <td>DELETE</td>\n",
       "      <td>SELL</td>\n",
       "      <td>20473.1</td>\n",
       "      <td>0.000</td>\n",
       "      <td>0</td>\n",
       "      <td>0</td>\n",
       "      <td>2098041696700</td>\n",
       "    </tr>\n",
       "    <tr>\n",
       "      <th>2022-11-01 23:59:59.939000+00:00</th>\n",
       "      <td>BTCUSDT.BINANCE</td>\n",
       "      <td>DELETE</td>\n",
       "      <td>SELL</td>\n",
       "      <td>20473.2</td>\n",
       "      <td>0.000</td>\n",
       "      <td>0</td>\n",
       "      <td>0</td>\n",
       "      <td>2098041696700</td>\n",
       "    </tr>\n",
       "    <tr>\n",
       "      <th>2022-11-01 23:59:59.939000+00:00</th>\n",
       "      <td>BTCUSDT.BINANCE</td>\n",
       "      <td>UPDATE</td>\n",
       "      <td>SELL</td>\n",
       "      <td>20473.3</td>\n",
       "      <td>0.001</td>\n",
       "      <td>0</td>\n",
       "      <td>0</td>\n",
       "      <td>2098041696700</td>\n",
       "    </tr>\n",
       "  </tbody>\n",
       "</table>\n",
       "</div>"
      ],
      "text/plain": [
       "                                    instrument_id  action  side    price  \\\n",
       "timestamp                                                                  \n",
       "2022-11-01 23:59:59.939000+00:00  BTCUSDT.BINANCE  DELETE  SELL  20472.8   \n",
       "2022-11-01 23:59:59.939000+00:00  BTCUSDT.BINANCE  DELETE  SELL  20472.9   \n",
       "2022-11-01 23:59:59.939000+00:00  BTCUSDT.BINANCE  DELETE  SELL  20473.1   \n",
       "2022-11-01 23:59:59.939000+00:00  BTCUSDT.BINANCE  DELETE  SELL  20473.2   \n",
       "2022-11-01 23:59:59.939000+00:00  BTCUSDT.BINANCE  UPDATE  SELL  20473.3   \n",
       "\n",
       "                                   size  order_id  flags       sequence  \n",
       "timestamp                                                                \n",
       "2022-11-01 23:59:59.939000+00:00  0.000         0      0  2098041696700  \n",
       "2022-11-01 23:59:59.939000+00:00  0.000         0      0  2098041696700  \n",
       "2022-11-01 23:59:59.939000+00:00  0.000         0      0  2098041696700  \n",
       "2022-11-01 23:59:59.939000+00:00  0.000         0      0  2098041696700  \n",
       "2022-11-01 23:59:59.939000+00:00  0.001         0      0  2098041696700  "
      ]
     },
     "execution_count": 5,
     "metadata": {},
     "output_type": "execute_result"
    }
   ],
   "source": [
    "# Then we'll load the order book updates, to save time here we're limiting to 1 million rows\n",
    "path_update = data_path / \"btcusdt-depth-update.csv\" #\"BTCUSDT_T_DEPTH_2022-11-01_depth_update.csv\"\n",
    "nrows = 1_000_000\n",
    "df_update = BinanceOrderBookDeltaDataLoader.load(path_update, nrows=nrows)\n",
    "df_update.head()"
   ]
  },
  {
   "cell_type": "markdown",
   "id": "10",
   "metadata": {},
   "source": [
    "### Process deltas using a wrangler"
   ]
  },
  {
   "cell_type": "code",
   "execution_count": 6,
   "id": "11",
   "metadata": {},
   "outputs": [
    {
     "data": {
      "text/plain": [
       "[OrderBookDelta(instrument_id=BTCUSDT.BINANCE, action=CLEAR, order=BookOrder(side=NO_ORDER_SIDE, price=0, size=0, order_id=0), flags=0, sequence=2098021528332, ts_event=1667346579146000000, ts_init=1667346579146000000),\n",
       " OrderBookDelta(instrument_id=BTCUSDT.BINANCE, action=ADD, order=BookOrder(side=BUY, price=20377.00, size=1.770000, order_id=0), flags=32, sequence=2098021528332, ts_event=1667346579146000000, ts_init=1667346579146000000),\n",
       " OrderBookDelta(instrument_id=BTCUSDT.BINANCE, action=ADD, order=BookOrder(side=BUY, price=20376.90, size=0.001000, order_id=0), flags=32, sequence=2098021528332, ts_event=1667346579146000000, ts_init=1667346579146000000),\n",
       " OrderBookDelta(instrument_id=BTCUSDT.BINANCE, action=ADD, order=BookOrder(side=BUY, price=20376.80, size=0.009000, order_id=0), flags=32, sequence=2098021528332, ts_event=1667346579146000000, ts_init=1667346579146000000),\n",
       " OrderBookDelta(instrument_id=BTCUSDT.BINANCE, action=ADD, order=BookOrder(side=BUY, price=20376.70, size=1.216000, order_id=0), flags=32, sequence=2098021528332, ts_event=1667346579146000000, ts_init=1667346579146000000),\n",
       " OrderBookDelta(instrument_id=BTCUSDT.BINANCE, action=ADD, order=BookOrder(side=BUY, price=20376.60, size=0.011000, order_id=0), flags=32, sequence=2098021528332, ts_event=1667346579146000000, ts_init=1667346579146000000),\n",
       " OrderBookDelta(instrument_id=BTCUSDT.BINANCE, action=ADD, order=BookOrder(side=BUY, price=20376.50, size=0.438000, order_id=0), flags=32, sequence=2098021528332, ts_event=1667346579146000000, ts_init=1667346579146000000),\n",
       " OrderBookDelta(instrument_id=BTCUSDT.BINANCE, action=ADD, order=BookOrder(side=BUY, price=20376.40, size=7.199000, order_id=0), flags=32, sequence=2098021528332, ts_event=1667346579146000000, ts_init=1667346579146000000),\n",
       " OrderBookDelta(instrument_id=BTCUSDT.BINANCE, action=ADD, order=BookOrder(side=BUY, price=20376.30, size=0.035000, order_id=0), flags=32, sequence=2098021528332, ts_event=1667346579146000000, ts_init=1667346579146000000),\n",
       " OrderBookDelta(instrument_id=BTCUSDT.BINANCE, action=ADD, order=BookOrder(side=BUY, price=20376.20, size=0.007000, order_id=0), flags=32, sequence=2098021528332, ts_event=1667346579146000000, ts_init=1667346579146000000)]"
      ]
     },
     "execution_count": 6,
     "metadata": {},
     "output_type": "execute_result"
    }
   ],
   "source": [
    "BTCUSDT_BINANCE = TestInstrumentProvider.btcusdt_binance()\n",
    "wrangler = OrderBookDeltaDataWrangler(BTCUSDT_BINANCE)\n",
    "\n",
    "deltas = wrangler.process(df_snap)\n",
    "deltas += wrangler.process(df_update)\n",
    "deltas.sort(key=lambda x: x.ts_init)  # Ensure data is non-decreasing by `ts_init`\n",
    "deltas[:10]"
   ]
  },
  {
   "cell_type": "markdown",
   "id": "12",
   "metadata": {},
   "source": [
    "### Set up data catalog"
   ]
  },
  {
   "cell_type": "code",
   "execution_count": 7,
   "id": "13",
   "metadata": {},
   "outputs": [],
   "source": [
    "CATALOG_PATH = os.getcwd() + \"/catalog\"\n",
    "\n",
    "# Clear if it already exists, then create fresh\n",
    "if os.path.exists(CATALOG_PATH):\n",
    "    shutil.rmtree(CATALOG_PATH)\n",
    "os.mkdir(CATALOG_PATH)\n",
    "\n",
    "# Create a catalog instance\n",
    "catalog = ParquetDataCatalog(CATALOG_PATH)"
   ]
  },
  {
   "cell_type": "code",
   "execution_count": 8,
   "id": "14",
   "metadata": {},
   "outputs": [],
   "source": [
    "# Write instrument and ticks to catalog\n",
    "catalog.write_data([BTCUSDT_BINANCE])\n",
    "catalog.write_data(deltas)"
   ]
  },
  {
   "cell_type": "code",
   "execution_count": 9,
   "id": "15",
   "metadata": {},
   "outputs": [
    {
     "data": {
      "text/plain": [
       "[CurrencyPair(id=BTCUSDT.BINANCE, raw_symbol=BTCUSDT, asset_class=CRYPTOCURRENCY, instrument_class=SPOT, quote_currency=USDT, is_inverse=False, price_precision=2, price_increment=0.01, size_precision=6, size_increment=0.000001, multiplier=1, lot_size=None, margin_init=0, margin_maint=0, maker_fee=0.001, taker_fee=0.001, info=None)]"
      ]
     },
     "execution_count": 9,
     "metadata": {},
     "output_type": "execute_result"
    }
   ],
   "source": [
    "# Confirm the instrument was written\n",
    "catalog.instruments()"
   ]
  },
  {
   "cell_type": "code",
   "execution_count": 10,
   "id": "16",
   "metadata": {},
   "outputs": [
    {
     "name": "stdout",
     "output_type": "stream",
     "text": [
      "201\n"
     ]
    },
    {
     "data": {
      "text/plain": [
       "[OrderBookDelta(instrument_id=BTCUSDT.BINANCE, action=CLEAR, order=BookOrder(side=NO_ORDER_SIDE, price=0.00, size=0.000000, order_id=0), flags=0, sequence=2098021528332, ts_event=1667346579146000000, ts_init=1667346579146000000),\n",
       " OrderBookDelta(instrument_id=BTCUSDT.BINANCE, action=ADD, order=BookOrder(side=BUY, price=20377.00, size=1.770000, order_id=0), flags=32, sequence=2098021528332, ts_event=1667346579146000000, ts_init=1667346579146000000),\n",
       " OrderBookDelta(instrument_id=BTCUSDT.BINANCE, action=ADD, order=BookOrder(side=BUY, price=20376.90, size=0.001000, order_id=0), flags=32, sequence=2098021528332, ts_event=1667346579146000000, ts_init=1667346579146000000),\n",
       " OrderBookDelta(instrument_id=BTCUSDT.BINANCE, action=ADD, order=BookOrder(side=BUY, price=20376.80, size=0.009000, order_id=0), flags=32, sequence=2098021528332, ts_event=1667346579146000000, ts_init=1667346579146000000),\n",
       " OrderBookDelta(instrument_id=BTCUSDT.BINANCE, action=ADD, order=BookOrder(side=BUY, price=20376.70, size=1.216000, order_id=0), flags=32, sequence=2098021528332, ts_event=1667346579146000000, ts_init=1667346579146000000),\n",
       " OrderBookDelta(instrument_id=BTCUSDT.BINANCE, action=ADD, order=BookOrder(side=BUY, price=20376.60, size=0.011000, order_id=0), flags=32, sequence=2098021528332, ts_event=1667346579146000000, ts_init=1667346579146000000),\n",
       " OrderBookDelta(instrument_id=BTCUSDT.BINANCE, action=ADD, order=BookOrder(side=BUY, price=20376.50, size=0.438000, order_id=0), flags=32, sequence=2098021528332, ts_event=1667346579146000000, ts_init=1667346579146000000),\n",
       " OrderBookDelta(instrument_id=BTCUSDT.BINANCE, action=ADD, order=BookOrder(side=BUY, price=20376.40, size=7.199000, order_id=0), flags=32, sequence=2098021528332, ts_event=1667346579146000000, ts_init=1667346579146000000),\n",
       " OrderBookDelta(instrument_id=BTCUSDT.BINANCE, action=ADD, order=BookOrder(side=BUY, price=20376.30, size=0.035000, order_id=0), flags=32, sequence=2098021528332, ts_event=1667346579146000000, ts_init=1667346579146000000),\n",
       " OrderBookDelta(instrument_id=BTCUSDT.BINANCE, action=ADD, order=BookOrder(side=BUY, price=20376.20, size=0.007000, order_id=0), flags=32, sequence=2098021528332, ts_event=1667346579146000000, ts_init=1667346579146000000)]"
      ]
     },
     "execution_count": 10,
     "metadata": {},
     "output_type": "execute_result"
    }
   ],
   "source": [
    "# Explore the available data in the catalog\n",
    "start = dt_to_unix_nanos(pd.Timestamp(\"2022-11-01\", tz=\"UTC\"))\n",
    "end =  dt_to_unix_nanos(pd.Timestamp(\"2022-11-04\", tz=\"UTC\"))\n",
    "\n",
    "deltas = catalog.order_book_deltas(start=start, end=end)\n",
    "print(len(deltas))\n",
    "deltas[:10]"
   ]
  },
  {
   "cell_type": "markdown",
   "id": "17",
   "metadata": {},
   "source": [
    "## Configure backtest"
   ]
  },
  {
   "cell_type": "code",
   "execution_count": 11,
   "id": "18",
   "metadata": {},
   "outputs": [
    {
     "data": {
      "text/plain": [
       "BacktestRunConfig(venues=[BacktestVenueConfig(name='BINANCE', oms_type='NETTING', account_type='CASH', starting_balances=['20 BTC', '100000 USDT'], base_currency=None, default_leverage=1.0, leverages=None, book_type='L2_MBP', routing=False, frozen_account=False, bar_execution=True, reject_stop_orders=True, support_gtd_orders=True, support_contingent_orders=True, use_position_ids=True, use_random_ids=False, use_reduce_only=True, modules=None)], data=[BacktestDataConfig(catalog_path='/Users/minzzii/Documents/highfrequencytrading/nautilus_trader/docs/tutorials/catalog', data_cls=<class 'nautilus_trader.model.data.OrderBookDelta'>, catalog_fs_protocol=None, catalog_fs_storage_options=None, instrument_id=InstrumentId('BTCUSDT.BINANCE'), start_time=None, end_time=None, filter_expr=None, client_id=None, metadata=None, bar_spec=None, batch_size=10000)], engine=BacktestEngineConfig(environment=<Environment.BACKTEST: 'backtest'>, trader_id=TraderId('BACKTESTER-001'), instance_id=None, cache=None, message_bus=None, data_engine=DataEngineConfig(time_bars_build_with_no_updates=True, time_bars_timestamp_on_close=True, time_bars_interval_type='left-open', validate_data_sequence=False, buffer_deltas=False, debug=False), risk_engine=RiskEngineConfig(bypass=False, max_order_submit_rate='100/00:00:01', max_order_modify_rate='100/00:00:01', max_notional_per_order={}, debug=False), exec_engine=ExecEngineConfig(load_cache=True, debug=False), emulator=None, streaming=None, catalog=None, actors=[], strategies=[ImportableStrategyConfig(strategy_path='nautilus_trader.examples.strategies.orderbook_imbalance:OrderBookImbalance', config_path='nautilus_trader.examples.strategies.orderbook_imbalance:OrderBookImbalanceConfig', config={'instrument_id': InstrumentId('BTCUSDT.BINANCE'), 'book_type': 'L2_MBP', 'max_trade_size': Decimal('1.000'), 'min_seconds_between_triggers': 1.0})], exec_algorithms=[], controller=None, load_state=False, save_state=False, loop_debug=False, logging=LoggingConfig(log_level='ERROR', log_level_file=None, log_directory=None, log_file_name=None, log_file_format=None, log_colors=True, log_component_levels=None, bypass_logging=False, print_config=False, use_pyo3=False), snapshot_orders=False, snapshot_positions=False, snapshot_positions_interval=None, timeout_connection=10.0, timeout_reconciliation=10.0, timeout_portfolio=10.0, timeout_disconnection=10.0, timeout_post_stop=10.0, run_analysis=True), batch_size_bytes=None)"
      ]
     },
     "execution_count": 11,
     "metadata": {},
     "output_type": "execute_result"
    }
   ],
   "source": [
    "instrument = catalog.instruments()[0]\n",
    "book_type = \"L2_MBP\"  # Ensure data book type matches venue book type\n",
    "\n",
    "data_configs = [BacktestDataConfig(\n",
    "        catalog_path=CATALOG_PATH,\n",
    "        data_cls=OrderBookDelta,\n",
    "        instrument_id=instrument.id,\n",
    "        # start_time=start,  # Run across all data\n",
    "        # end_time=end,  # Run across all data\n",
    "    )\n",
    "]\n",
    "\n",
    "venues_configs = [\n",
    "    BacktestVenueConfig(\n",
    "        name=\"BINANCE\",\n",
    "        oms_type=\"NETTING\",\n",
    "        account_type=\"CASH\",\n",
    "        base_currency=None,\n",
    "        starting_balances=[\"20 BTC\", \"100000 USDT\"],\n",
    "        book_type=book_type,  # <-- Venues book type\n",
    "    )\n",
    "]\n",
    "\n",
    "strategies = [\n",
    "    ImportableStrategyConfig(\n",
    "        strategy_path=\"nautilus_trader.examples.strategies.orderbook_imbalance:OrderBookImbalance\",\n",
    "        config_path=\"nautilus_trader.examples.strategies.orderbook_imbalance:OrderBookImbalanceConfig\",\n",
    "        config=dict(\n",
    "            instrument_id=instrument.id,\n",
    "            book_type=book_type,\n",
    "            max_trade_size=Decimal(\"1.000\"),\n",
    "            min_seconds_between_triggers=1.0,\n",
    "        ),\n",
    "    ),\n",
    "]\n",
    "\n",
    "# NautilusTrader currently exceeds the rate limit for Jupyter notebook logging (stdout output),\n",
    "# this is why the `log_level` is set to \"ERROR\". If you lower this level to see\n",
    "# more logging then the notebook will hang during cell execution. A fix is currently\n",
    "# being investigated which involves either raising the configured rate limits for\n",
    "# Jupyter, or throttling the log flushing from Nautilus.\n",
    "# https://github.com/jupyterlab/jupyterlab/issues/12845\n",
    "# https://github.com/deshaw/jupyterlab-limit-output\n",
    "config = BacktestRunConfig(\n",
    "    engine=BacktestEngineConfig(\n",
    "        strategies=strategies,\n",
    "        logging=LoggingConfig(log_level=\"ERROR\"),\n",
    "    ),\n",
    "    data=data_configs,\n",
    "    venues=venues_configs,\n",
    ")\n",
    "\n",
    "config"
   ]
  },
  {
   "cell_type": "markdown",
   "id": "19",
   "metadata": {},
   "source": [
    "## Run the backtest"
   ]
  },
  {
   "cell_type": "code",
   "execution_count": null,
   "id": "51c2984d",
   "metadata": {},
   "outputs": [],
   "source": []
  },
  {
   "cell_type": "code",
   "execution_count": 12,
   "id": "20",
   "metadata": {},
   "outputs": [],
   "source": [
    "node = BacktestNode(configs=[config])\n",
    "\n",
    "result = node.run()"
   ]
  },
  {
   "cell_type": "code",
   "execution_count": 13,
   "id": "21",
   "metadata": {},
   "outputs": [
    {
     "data": {
      "text/plain": [
       "[BacktestResult(trader_id='BACKTESTER-001', machine_id='minzzii-MacBookPro-2.local', run_config_id='2ea2e3095a4b1b3e0edc8698a1e6e5b3e62bc916025d46acdf6c9bb66645ed7e', instance_id='e60d8140-ec09-482e-a5d7-dd8b08315f2e', run_id='d711aa1b-9ecc-4aa0-92a7-9ded8fe807d8', run_started=1724846688402318000, run_finished=1724846688432878000, backtest_start=1667346579146000000, backtest_end=1667347199939000000, elapsed_time=620.793, iterations=0, total_events=0, total_orders=0, total_positions=0, stats_pnls={'BTC': {'PnL (total)': 0.0, 'PnL% (total)': 0.0, 'Max Winner': 0.0, 'Avg Winner': 0.0, 'Min Winner': 0.0, 'Min Loser': 0.0, 'Avg Loser': 0.0, 'Max Loser': 0.0, 'Expectancy': 0.0, 'Win Rate': 0.0}, 'USDT': {'PnL (total)': 0.0, 'PnL% (total)': 0.0, 'Max Winner': 0.0, 'Avg Winner': 0.0, 'Min Winner': 0.0, 'Min Loser': 0.0, 'Avg Loser': 0.0, 'Max Loser': 0.0, 'Expectancy': 0.0, 'Win Rate': 0.0}}, stats_returns={'Returns Volatility (252 days)': nan, 'Average (Return)': nan, 'Average Loss (Return)': nan, 'Average Win (Return)': nan, 'Sharpe Ratio (252 days)': nan, 'Sortino Ratio (252 days)': nan, 'Profit Factor': nan, 'Risk Return Ratio': nan})]"
      ]
     },
     "execution_count": 13,
     "metadata": {},
     "output_type": "execute_result"
    }
   ],
   "source": [
    "result"
   ]
  },
  {
   "cell_type": "code",
   "execution_count": 14,
   "id": "22",
   "metadata": {},
   "outputs": [
    {
     "name": "stdout",
     "output_type": "stream",
     "text": [
      "Empty DataFrame\n",
      "Columns: []\n",
      "Index: []\n"
     ]
    }
   ],
   "source": [
    "from nautilus_trader.backtest.engine import BacktestEngine\n",
    "from nautilus_trader.model.identifiers import Venue\n",
    "\n",
    "engine: BacktestEngine = node.get_engine(config.id)\n",
    "\n",
    "report = engine.trader.generate_order_fills_report()\n",
    "print(report)"
   ]
  },
  {
   "cell_type": "code",
   "execution_count": 15,
   "id": "23",
   "metadata": {},
   "outputs": [
    {
     "name": "stdout",
     "output_type": "stream",
     "text": [
      "Empty DataFrame\n",
      "Columns: []\n",
      "Index: []\n"
     ]
    }
   ],
   "source": [
    "report = engine.trader.generate_positions_report()\n",
    "print(report)"
   ]
  },
  {
   "cell_type": "code",
   "execution_count": 16,
   "id": "24",
   "metadata": {},
   "outputs": [
    {
     "data": {
      "text/html": [
       "<div>\n",
       "<style scoped>\n",
       "    .dataframe tbody tr th:only-of-type {\n",
       "        vertical-align: middle;\n",
       "    }\n",
       "\n",
       "    .dataframe tbody tr th {\n",
       "        vertical-align: top;\n",
       "    }\n",
       "\n",
       "    .dataframe thead th {\n",
       "        text-align: right;\n",
       "    }\n",
       "</style>\n",
       "<table border=\"1\" class=\"dataframe\">\n",
       "  <thead>\n",
       "    <tr style=\"text-align: right;\">\n",
       "      <th></th>\n",
       "      <th>total</th>\n",
       "      <th>locked</th>\n",
       "      <th>free</th>\n",
       "      <th>currency</th>\n",
       "      <th>account_id</th>\n",
       "      <th>account_type</th>\n",
       "      <th>base_currency</th>\n",
       "      <th>margins</th>\n",
       "      <th>reported</th>\n",
       "      <th>info</th>\n",
       "    </tr>\n",
       "  </thead>\n",
       "  <tbody>\n",
       "    <tr>\n",
       "      <th>2022-11-01 23:49:39.146000+00:00</th>\n",
       "      <td>20.00000000</td>\n",
       "      <td>0E-8</td>\n",
       "      <td>20.00000000</td>\n",
       "      <td>BTC</td>\n",
       "      <td>BINANCE-001</td>\n",
       "      <td>CASH</td>\n",
       "      <td>None</td>\n",
       "      <td>[]</td>\n",
       "      <td>True</td>\n",
       "      <td>{}</td>\n",
       "    </tr>\n",
       "    <tr>\n",
       "      <th>2022-11-01 23:49:39.146000+00:00</th>\n",
       "      <td>100000.00000000</td>\n",
       "      <td>0E-8</td>\n",
       "      <td>100000.00000000</td>\n",
       "      <td>USDT</td>\n",
       "      <td>BINANCE-001</td>\n",
       "      <td>CASH</td>\n",
       "      <td>None</td>\n",
       "      <td>[]</td>\n",
       "      <td>True</td>\n",
       "      <td>{}</td>\n",
       "    </tr>\n",
       "  </tbody>\n",
       "</table>\n",
       "</div>"
      ],
      "text/plain": [
       "                                            total locked             free  \\\n",
       "2022-11-01 23:49:39.146000+00:00      20.00000000   0E-8      20.00000000   \n",
       "2022-11-01 23:49:39.146000+00:00  100000.00000000   0E-8  100000.00000000   \n",
       "\n",
       "                                 currency   account_id account_type  \\\n",
       "2022-11-01 23:49:39.146000+00:00      BTC  BINANCE-001         CASH   \n",
       "2022-11-01 23:49:39.146000+00:00     USDT  BINANCE-001         CASH   \n",
       "\n",
       "                                 base_currency margins  reported info  \n",
       "2022-11-01 23:49:39.146000+00:00          None      []      True   {}  \n",
       "2022-11-01 23:49:39.146000+00:00          None      []      True   {}  "
      ]
     },
     "execution_count": 16,
     "metadata": {},
     "output_type": "execute_result"
    }
   ],
   "source": [
    "engine.trader.generate_account_report(Venue(\"BINANCE\"))"
   ]
  },
  {
   "cell_type": "code",
   "execution_count": null,
   "id": "69814b45",
   "metadata": {},
   "outputs": [],
   "source": []
  }
 ],
 "metadata": {
  "kernelspec": {
   "display_name": "Python 3 (ipykernel)",
   "language": "python",
   "name": "python3"
  },
  "language_info": {
   "codemirror_mode": {
    "name": "ipython",
    "version": 3
   },
   "file_extension": ".py",
   "mimetype": "text/x-python",
   "name": "python",
   "nbconvert_exporter": "python",
   "pygments_lexer": "ipython3",
   "version": "3.10.7"
  }
 },
 "nbformat": 4,
 "nbformat_minor": 5
}
